{
 "cells": [
  {
   "cell_type": "code",
   "execution_count": null,
   "id": "09b0ce57",
   "metadata": {},
   "outputs": [],
   "source": [
    "instagram_df1['Audiencecountry(mostly)'].value_counts()\n",
    "groupby_clean_insta = instagram_df1.groupby([\"Audiencecountry(mostly)\"])\n",
    "display(groupby_clean_insta.sum().sort_values(by=\"Followers\",ascending=False))\n",
    "\n",
    "display(clean_yt)\n",
    "\n",
    "\n",
    "clean_yt['Audience Country'].value_counts()\n",
    "groupby_clean_yt = clean_yt.groupby([\"Audience Country\"])\n",
    "display(groupby_clean_yt.sum().sort_values(by=\"Subscribers\",ascending=False))\n",
    "\n",
    "\n",
    "\n",
    "instagram_df1['Audiencecountry(mostly)'].value_counts()\n",
    "groupby_clean_insta = instagram_df1.groupby([\"Audiencecountry(mostly)\"])\n",
    "Clean_insta_followers= groupby_clean_insta.sum().sort_values(by=\"Followers\",ascending=False)\n",
    "display(Clean_insta_followers)\n",
    "\n",
    "#display(clean_yt)\n",
    "\n",
    "\n",
    "clean_yt['Audience Country'].value_counts()\n",
    "groupby_clean_yt = clean_yt.groupby([\"Audience Country\"])\n",
    "Clean_yt_subcribers= groupby_clean_yt.sum().sort_values(by=\"Subscribers\",ascending=False)\n",
    "display(Clean_yt_subcribers)\n",
    "\n",
    "\n",
    "\n",
    "\n",
    "fig, (ax1, ax2)= plt.subplots(1,2)\n",
    "Clean_insta_followers[\"Followers\"].iloc[0:10].plot(ax=ax1,kind=\"bar\",figsize=(15,10))\n",
    "ax1.set_title(\"Top 10 countries by followers\")\n",
    "ax1.set_ylabel(\"Number of Followers\")\n",
    "ax1.set_xlabel(\"Countries\") \n",
    "Clean_yt_subcribers[\"Subscribers\"].iloc[0:10].plot(ax=ax2,kind=\"bar\",figsize=(15,10))\n",
    "ax2.set_title(\"Top 10 countries by Subscribers\")\n",
    "ax2.set_ylabel(\"Number of Subscribers\")\n",
    "ax2.set_xlabel(\"Countries\")"
   ]
  }
 ],
 "metadata": {
  "kernelspec": {
   "display_name": "Python 3 (ipykernel)",
   "language": "python",
   "name": "python3"
  },
  "language_info": {
   "codemirror_mode": {
    "name": "ipython",
    "version": 3
   },
   "file_extension": ".py",
   "mimetype": "text/x-python",
   "name": "python",
   "nbconvert_exporter": "python",
   "pygments_lexer": "ipython3",
   "version": "3.9.12"
  }
 },
 "nbformat": 4,
 "nbformat_minor": 5
}
